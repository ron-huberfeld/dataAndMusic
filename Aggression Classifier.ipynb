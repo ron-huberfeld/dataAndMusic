{
 "cells": [
  {
   "cell_type": "markdown",
   "metadata": {},
   "source": [
    "# About this Notebook\n",
    "This notebook creates a Keras Sequential ANN that accompanies the other notebook (49 Years of Music - Collection and Analysis). Run this first. You'll need to collect the data from the link in the other notebook. \n",
    "This is a standard Bag of Words (BoW) model approach"
   ]
  },
  {
   "cell_type": "code",
   "execution_count": 1,
   "metadata": {},
   "outputs": [
    {
     "name": "stderr",
     "output_type": "stream",
     "text": [
      "/Users/carl.sharpe/anaconda3/lib/python3.6/site-packages/h5py/__init__.py:36: FutureWarning: Conversion of the second argument of issubdtype from `float` to `np.floating` is deprecated. In future, it will be treated as `np.float64 == np.dtype(float).type`.\n",
      "  from ._conv import register_converters as _register_converters\n",
      "Using TensorFlow backend.\n"
     ]
    }
   ],
   "source": [
    "import pandas as pd\n",
    "import numpy as np\n",
    "import matplotlib.pyplot as plt\n",
    "from IPython.display import HTML, display\n",
    "import matplotlib as mpl\n",
    "mpl.rcParams['figure.dpi'] = 300\n",
    "from datetime import datetime\n",
    "from keras.models import Sequential\n",
    "from keras.layers import Dense, Dropout, Activation\n",
    "from keras.wrappers.scikit_learn import KerasRegressor\n",
    "from sklearn.model_selection import KFold\n",
    "import tabulate\n",
    "import spacy\n",
    "import re\n",
    "from sklearn.feature_extraction.text import CountVectorizer\n",
    "from sklearn.model_selection import train_test_split\n",
    "import tensorflow as tf\n",
    "import keras\n",
    "from keras.preprocessing.text import Tokenizer\n",
    "from sklearn.preprocessing import LabelBinarizer\n",
    "from keras.models import model_from_json\n",
    "import json\n",
    "import pickle"
   ]
  },
  {
   "cell_type": "markdown",
   "metadata": {},
   "source": [
    "# Functions"
   ]
  },
  {
   "cell_type": "code",
   "execution_count": 3,
   "metadata": {},
   "outputs": [],
   "source": [
    "def add_spacy_data(dataset, feature_column):\n",
    "    '''\n",
    "    Grabs the verb, adverb, noun, and stop word Parts of Speech (POS) \n",
    "    tokens and pushes them into a new dataset. returns an \n",
    "    enriched dataset'''\n",
    "    verbs = []\n",
    "    nouns = []\n",
    "    adverbs = []\n",
    "    corpus = []\n",
    "    nlp = spacy.load('en_core_web_sm')\n",
    "    ##\n",
    "    for i in range (0, len(dataset)):\n",
    "        print(\"Extracting verbs and topics from record {} of {}\".format(i+1, len(dataset)), end = \"\\r\")\n",
    "        song = dataset.iloc[i][feature_column]\n",
    "        doc = nlp(song)\n",
    "        spacy_dataframe = pd.DataFrame()\n",
    "        for token in doc:\n",
    "            if token.lemma_ == \"-PRON-\":\n",
    "                    lemma = token.text\n",
    "            else:\n",
    "                lemma = token.lemma_\n",
    "            row = {\n",
    "                \"Word\": token.text,\n",
    "                \"Lemma\": lemma,\n",
    "                \"PoS\": token.pos_,\n",
    "                \"Stop Word\": token.is_stop\n",
    "            }\n",
    "            spacy_dataframe = spacy_dataframe.append(row, ignore_index = True)\n",
    "        verbs.append(\" \".join(spacy_dataframe[\"Lemma\"][spacy_dataframe[\"PoS\"] == \"VERB\"].values))\n",
    "        nouns.append(\" \".join(spacy_dataframe[\"Lemma\"][spacy_dataframe[\"PoS\"] == \"NOUN\"].values))\n",
    "        adverbs.append(\" \".join(spacy_dataframe[\"Lemma\"][spacy_dataframe[\"PoS\"] == \"ADV\"].values))\n",
    "        corpus_clean = \" \".join(spacy_dataframe[\"Lemma\"][spacy_dataframe[\"Stop Word\"] == False].values)\n",
    "        corpus_clean = re.sub(r'[^A-Za-z0-9]+', ' ', corpus_clean)   \n",
    "        corpus.append(corpus_clean)\n",
    "    dataset['Verbs'] = verbs\n",
    "    dataset['Nouns'] = nouns\n",
    "    dataset['Adverbs'] = adverbs\n",
    "    dataset['Corpus'] = corpus\n",
    "    return dataset"
   ]
  },
  {
   "cell_type": "code",
   "execution_count": 4,
   "metadata": {},
   "outputs": [],
   "source": [
    "def prep_corpus(raw_string):\n",
    "    '''Single use of add_spacy_data to enable pipelining \n",
    "    data into predictions'''\n",
    "    verbs = []\n",
    "    nouns = []\n",
    "    adverbs = []\n",
    "    corpus = []\n",
    "    nlp = spacy.load('en_core_web_sm')\n",
    "\n",
    "    doc = nlp(raw_string)\n",
    "    spacy_dataframe = pd.DataFrame()\n",
    "    for token in doc:\n",
    "        if token.lemma_ == \"-PRON-\":\n",
    "                lemma = token.text\n",
    "        else:\n",
    "            lemma = token.lemma_\n",
    "        row = {\n",
    "            \"Word\": token.text,\n",
    "            \"Lemma\": lemma,\n",
    "            \"PoS\": token.pos_,\n",
    "            \"Stop Word\": token.is_stop\n",
    "        }\n",
    "        spacy_dataframe = spacy_dataframe.append(row, ignore_index = True)\n",
    "    verbs.append(\" \".join(spacy_dataframe[\"Lemma\"][spacy_dataframe[\"PoS\"] == \"VERB\"].values))\n",
    "    nouns.append(\" \".join(spacy_dataframe[\"Lemma\"][spacy_dataframe[\"PoS\"] == \"NOUN\"].values))\n",
    "    adverbs.append(\" \".join(spacy_dataframe[\"Lemma\"][spacy_dataframe[\"PoS\"] == \"ADV\"].values))\n",
    "    corpus_clean = \" \".join(spacy_dataframe[\"Lemma\"][spacy_dataframe[\"Stop Word\"] == False].values)\n",
    "    corpus_clean = re.sub(r'[^A-Za-z0-9]+', ' ', corpus_clean)   \n",
    "\n",
    "    return corpus_clean"
   ]
  },
  {
   "cell_type": "markdown",
   "metadata": {},
   "source": [
    "# Loading and prepping the training data"
   ]
  },
  {
   "cell_type": "code",
   "execution_count": 5,
   "metadata": {},
   "outputs": [],
   "source": [
    "training_data = pd.read_json(\"Dataset for Detection of Cyber-Trolls.json\", lines = True)"
   ]
  },
  {
   "cell_type": "code",
   "execution_count": 6,
   "metadata": {},
   "outputs": [],
   "source": [
    "labels = []\n",
    "for i in range(0, len(training_data)):\n",
    "    labels.append(\"\".join(training_data.iloc[i]['annotation']['label']))"
   ]
  },
  {
   "cell_type": "code",
   "execution_count": 7,
   "metadata": {},
   "outputs": [],
   "source": [
    "training_data['label'] = labels"
   ]
  },
  {
   "cell_type": "code",
   "execution_count": 8,
   "metadata": {},
   "outputs": [
    {
     "data": {
      "text/html": [
       "<div>\n",
       "<style scoped>\n",
       "    .dataframe tbody tr th:only-of-type {\n",
       "        vertical-align: middle;\n",
       "    }\n",
       "\n",
       "    .dataframe tbody tr th {\n",
       "        vertical-align: top;\n",
       "    }\n",
       "\n",
       "    .dataframe thead th {\n",
       "        text-align: right;\n",
       "    }\n",
       "</style>\n",
       "<table border=\"1\" class=\"dataframe\">\n",
       "  <thead>\n",
       "    <tr style=\"text-align: right;\">\n",
       "      <th></th>\n",
       "      <th>annotation</th>\n",
       "      <th>content</th>\n",
       "      <th>extras</th>\n",
       "      <th>label</th>\n",
       "    </tr>\n",
       "  </thead>\n",
       "  <tbody>\n",
       "    <tr>\n",
       "      <th>0</th>\n",
       "      <td>{'notes': '', 'label': ['1']}</td>\n",
       "      <td>Get fucking real dude.</td>\n",
       "      <td>NaN</td>\n",
       "      <td>1</td>\n",
       "    </tr>\n",
       "    <tr>\n",
       "      <th>1</th>\n",
       "      <td>{'notes': '', 'label': ['1']}</td>\n",
       "      <td>She is as dirty as they come  and that crook ...</td>\n",
       "      <td>NaN</td>\n",
       "      <td>1</td>\n",
       "    </tr>\n",
       "    <tr>\n",
       "      <th>2</th>\n",
       "      <td>{'notes': '', 'label': ['1']}</td>\n",
       "      <td>why did you fuck it up. I could do it all day...</td>\n",
       "      <td>NaN</td>\n",
       "      <td>1</td>\n",
       "    </tr>\n",
       "    <tr>\n",
       "      <th>3</th>\n",
       "      <td>{'notes': '', 'label': ['1']}</td>\n",
       "      <td>Dude they dont finish enclosing the fucking s...</td>\n",
       "      <td>NaN</td>\n",
       "      <td>1</td>\n",
       "    </tr>\n",
       "    <tr>\n",
       "      <th>4</th>\n",
       "      <td>{'notes': '', 'label': ['1']}</td>\n",
       "      <td>WTF are you talking about Men? No men thats n...</td>\n",
       "      <td>NaN</td>\n",
       "      <td>1</td>\n",
       "    </tr>\n",
       "  </tbody>\n",
       "</table>\n",
       "</div>"
      ],
      "text/plain": [
       "                      annotation  \\\n",
       "0  {'notes': '', 'label': ['1']}   \n",
       "1  {'notes': '', 'label': ['1']}   \n",
       "2  {'notes': '', 'label': ['1']}   \n",
       "3  {'notes': '', 'label': ['1']}   \n",
       "4  {'notes': '', 'label': ['1']}   \n",
       "\n",
       "                                             content  extras label  \n",
       "0                             Get fucking real dude.     NaN     1  \n",
       "1   She is as dirty as they come  and that crook ...     NaN     1  \n",
       "2   why did you fuck it up. I could do it all day...     NaN     1  \n",
       "3   Dude they dont finish enclosing the fucking s...     NaN     1  \n",
       "4   WTF are you talking about Men? No men thats n...     NaN     1  "
      ]
     },
     "execution_count": 8,
     "metadata": {},
     "output_type": "execute_result"
    }
   ],
   "source": [
    "training_data.head()"
   ]
  },
  {
   "cell_type": "code",
   "execution_count": 9,
   "metadata": {},
   "outputs": [
    {
     "name": "stdout",
     "output_type": "stream",
     "text": [
      "Extracting verbs and topics from record 20001 of 20001\r"
     ]
    }
   ],
   "source": [
    "prepped_training_data = add_spacy_data(training_data, 'content')"
   ]
  },
  {
   "cell_type": "code",
   "execution_count": 10,
   "metadata": {},
   "outputs": [],
   "source": [
    "prepped_training_data.to_json('prepped_aggression_data.json')"
   ]
  },
  {
   "cell_type": "code",
   "execution_count": 11,
   "metadata": {},
   "outputs": [],
   "source": [
    "prepped_training_data = pd.read_json('prepped_aggression_data.json')"
   ]
  },
  {
   "cell_type": "code",
   "execution_count": 12,
   "metadata": {},
   "outputs": [
    {
     "data": {
      "text/html": [
       "<div>\n",
       "<style scoped>\n",
       "    .dataframe tbody tr th:only-of-type {\n",
       "        vertical-align: middle;\n",
       "    }\n",
       "\n",
       "    .dataframe tbody tr th {\n",
       "        vertical-align: top;\n",
       "    }\n",
       "\n",
       "    .dataframe thead th {\n",
       "        text-align: right;\n",
       "    }\n",
       "</style>\n",
       "<table border=\"1\" class=\"dataframe\">\n",
       "  <thead>\n",
       "    <tr style=\"text-align: right;\">\n",
       "      <th></th>\n",
       "      <th>Adverbs</th>\n",
       "      <th>Corpus</th>\n",
       "      <th>Nouns</th>\n",
       "      <th>Verbs</th>\n",
       "      <th>annotation</th>\n",
       "      <th>content</th>\n",
       "      <th>extras</th>\n",
       "      <th>label</th>\n",
       "    </tr>\n",
       "  </thead>\n",
       "  <tbody>\n",
       "    <tr>\n",
       "      <th>0</th>\n",
       "      <td></td>\n",
       "      <td>get fuck real dude</td>\n",
       "      <td>dude</td>\n",
       "      <td>get fuck</td>\n",
       "      <td>{'notes': '', 'label': ['1']}</td>\n",
       "      <td>Get fucking real dude.</td>\n",
       "      <td>NaN</td>\n",
       "      <td>1</td>\n",
       "    </tr>\n",
       "    <tr>\n",
       "      <th>1</th>\n",
       "      <td>as so</td>\n",
       "      <td>She dirty come crook rengel dems fuck corrupt...</td>\n",
       "      <td>crook joke</td>\n",
       "      <td>be come be fuck be make look</td>\n",
       "      <td>{'notes': '', 'label': ['1']}</td>\n",
       "      <td>She is as dirty as they come  and that crook ...</td>\n",
       "      <td>NaN</td>\n",
       "      <td>1</td>\n",
       "    </tr>\n",
       "    <tr>\n",
       "      <th>10</th>\n",
       "      <td></td>\n",
       "      <td>truth count guy ass product sub par I tell peo...</td>\n",
       "      <td>truth count guy ass product sub par people orjim</td>\n",
       "      <td>be be tell try</td>\n",
       "      <td>{'notes': '', 'label': ['1']}</td>\n",
       "      <td>truth on both counts that guy is an ass  and t...</td>\n",
       "      <td>NaN</td>\n",
       "      <td>1</td>\n",
       "    </tr>\n",
       "    <tr>\n",
       "      <th>100</th>\n",
       "      <td>now just not</td>\n",
       "      <td>I listen cow love yahoo slurpee bag what cup I...</td>\n",
       "      <td>cow yahoo slurpee bag what cup cup</td>\n",
       "      <td>can see listen love put do need fuck</td>\n",
       "      <td>{'notes': '', 'label': ['1']}</td>\n",
       "      <td>I can see it now. \"Listen  you cow-loving yaho...</td>\n",
       "      <td>NaN</td>\n",
       "      <td>1</td>\n",
       "    </tr>\n",
       "    <tr>\n",
       "      <th>1000</th>\n",
       "      <td>on</td>\n",
       "      <td>oh come on 1 10 that fuck ridiculous be movie ...</td>\n",
       "      <td>what movie shot celphone</td>\n",
       "      <td>come be fuck be give</td>\n",
       "      <td>{'notes': '', 'label': ['1']}</td>\n",
       "      <td>Oh  come ON... 1/10?  That is fucking ridiculo...</td>\n",
       "      <td>NaN</td>\n",
       "      <td>1</td>\n",
       "    </tr>\n",
       "  </tbody>\n",
       "</table>\n",
       "</div>"
      ],
      "text/plain": [
       "           Adverbs                                             Corpus  \\\n",
       "0                                                 get fuck real dude    \n",
       "1            as so   She dirty come crook rengel dems fuck corrupt...   \n",
       "10                  truth count guy ass product sub par I tell peo...   \n",
       "100   now just not  I listen cow love yahoo slurpee bag what cup I...   \n",
       "1000            on  oh come on 1 10 that fuck ridiculous be movie ...   \n",
       "\n",
       "                                                 Nouns  \\\n",
       "0                                                 dude   \n",
       "1                                           crook joke   \n",
       "10    truth count guy ass product sub par people orjim   \n",
       "100                 cow yahoo slurpee bag what cup cup   \n",
       "1000                          what movie shot celphone   \n",
       "\n",
       "                                     Verbs                     annotation  \\\n",
       "0                                 get fuck  {'notes': '', 'label': ['1']}   \n",
       "1             be come be fuck be make look  {'notes': '', 'label': ['1']}   \n",
       "10                          be be tell try  {'notes': '', 'label': ['1']}   \n",
       "100   can see listen love put do need fuck  {'notes': '', 'label': ['1']}   \n",
       "1000                  come be fuck be give  {'notes': '', 'label': ['1']}   \n",
       "\n",
       "                                                content  extras  label  \n",
       "0                                Get fucking real dude.     NaN      1  \n",
       "1      She is as dirty as they come  and that crook ...     NaN      1  \n",
       "10    truth on both counts that guy is an ass  and t...     NaN      1  \n",
       "100   I can see it now. \"Listen  you cow-loving yaho...     NaN      1  \n",
       "1000  Oh  come ON... 1/10?  That is fucking ridiculo...     NaN      1  "
      ]
     },
     "execution_count": 12,
     "metadata": {},
     "output_type": "execute_result"
    }
   ],
   "source": [
    "prepped_training_data.head()"
   ]
  },
  {
   "cell_type": "markdown",
   "metadata": {},
   "source": [
    "## Vectorizing and Splitting the Data"
   ]
  },
  {
   "cell_type": "code",
   "execution_count": 13,
   "metadata": {},
   "outputs": [
    {
     "name": "stdout",
     "output_type": "stream",
     "text": [
      "Done!\n"
     ]
    }
   ],
   "source": [
    "cv = CountVectorizer(max_features = 250)\n",
    "X = cv.fit_transform(prepped_training_data['Corpus']).toarray()\n",
    "y = prepped_training_data['label'].values\n",
    "print(\"Done!\")"
   ]
  },
  {
   "cell_type": "code",
   "execution_count": 14,
   "metadata": {},
   "outputs": [],
   "source": [
    "X_train, X_test, y_train, y_test = train_test_split(X, y, test_size = 0.15, random_state = 0)"
   ]
  },
  {
   "cell_type": "code",
   "execution_count": 15,
   "metadata": {},
   "outputs": [],
   "source": [
    "train_data = keras.preprocessing.sequence.pad_sequences(X_train, maxlen=250)\n",
    "test_data = keras.preprocessing.sequence.pad_sequences(X_test, maxlen=250)"
   ]
  },
  {
   "cell_type": "markdown",
   "metadata": {},
   "source": [
    "## Building the Keras Model"
   ]
  },
  {
   "cell_type": "code",
   "execution_count": 16,
   "metadata": {
    "scrolled": false
   },
   "outputs": [
    {
     "name": "stdout",
     "output_type": "stream",
     "text": [
      "_________________________________________________________________\n",
      "Layer (type)                 Output Shape              Param #   \n",
      "=================================================================\n",
      "dense_1 (Dense)              (None, 128)               32128     \n",
      "_________________________________________________________________\n",
      "dropout_1 (Dropout)          (None, 128)               0         \n",
      "_________________________________________________________________\n",
      "dense_2 (Dense)              (None, 512)               66048     \n",
      "_________________________________________________________________\n",
      "dropout_2 (Dropout)          (None, 512)               0         \n",
      "_________________________________________________________________\n",
      "dense_3 (Dense)              (None, 512)               262656    \n",
      "_________________________________________________________________\n",
      "dropout_3 (Dropout)          (None, 512)               0         \n",
      "_________________________________________________________________\n",
      "dense_4 (Dense)              (None, 250)               128250    \n",
      "_________________________________________________________________\n",
      "dropout_4 (Dropout)          (None, 250)               0         \n",
      "_________________________________________________________________\n",
      "dense_5 (Dense)              (None, 250)               62750     \n",
      "_________________________________________________________________\n",
      "dropout_5 (Dropout)          (None, 250)               0         \n",
      "_________________________________________________________________\n",
      "dense_6 (Dense)              (None, 250)               62750     \n",
      "_________________________________________________________________\n",
      "dropout_6 (Dropout)          (None, 250)               0         \n",
      "_________________________________________________________________\n",
      "dense_7 (Dense)              (None, 128)               32128     \n",
      "_________________________________________________________________\n",
      "dense_8 (Dense)              (None, 128)               16512     \n",
      "_________________________________________________________________\n",
      "dense_9 (Dense)              (None, 128)               16512     \n",
      "_________________________________________________________________\n",
      "dense_10 (Dense)             (None, 1)                 129       \n",
      "=================================================================\n",
      "Total params: 679,863\n",
      "Trainable params: 679,863\n",
      "Non-trainable params: 0\n",
      "_________________________________________________________________\n"
     ]
    }
   ],
   "source": [
    "model = keras.Sequential()\n",
    "#model.add(keras.layers.Embedding(128, 64))\n",
    "model.add(Dense(128, input_shape=(250,)))\n",
    "model.add(Dropout(0.3))\n",
    "#model.add(keras.layers.GlobalAveragePooling1D())\n",
    "model.add(Dense(512, activation='relu'))\n",
    "model.add(Dropout(0.2))\n",
    "model.add(Dense(512, activation='relu'))\n",
    "model.add(Dropout(0.2))\n",
    "model.add(Dense(250, activation='relu'))\n",
    "model.add(Dropout(0.2))\n",
    "model.add(Dense(250, activation='relu'))\n",
    "model.add(Dropout(0.2))\n",
    "model.add(Dense(250, activation='relu'))\n",
    "model.add(Dropout(0.2))\n",
    "model.add(Dense(128, activation='relu'))\n",
    "model.add(Dense(128, activation='relu'))\n",
    "model.add(Dense(128, activation='relu'))\n",
    "model.add(Dense(1, activation='relu'))\n",
    "model.summary()"
   ]
  },
  {
   "cell_type": "code",
   "execution_count": 17,
   "metadata": {},
   "outputs": [],
   "source": [
    "model.compile(optimizer='adam',\n",
    "              loss='binary_crossentropy',\n",
    "              metrics=['accuracy'])"
   ]
  },
  {
   "cell_type": "markdown",
   "metadata": {},
   "source": [
    "## Training"
   ]
  },
  {
   "cell_type": "code",
   "execution_count": 18,
   "metadata": {
    "scrolled": true
   },
   "outputs": [
    {
     "name": "stdout",
     "output_type": "stream",
     "text": [
      "Train on 15300 samples, validate on 1700 samples\n",
      "Epoch 1/200\n",
      " - 2s - loss: 0.7104 - acc: 0.6084 - val_loss: 0.6442 - val_acc: 0.6294\n",
      "Epoch 2/200\n",
      " - 1s - loss: 0.6183 - acc: 0.6499 - val_loss: 0.5950 - val_acc: 0.6700\n",
      "Epoch 3/200\n",
      " - 1s - loss: 0.6221 - acc: 0.6735 - val_loss: 0.5877 - val_acc: 0.6524\n",
      "Epoch 4/200\n",
      " - 1s - loss: 0.5780 - acc: 0.6869 - val_loss: 0.6079 - val_acc: 0.6435\n",
      "Epoch 5/200\n",
      " - 1s - loss: 0.5742 - acc: 0.6797 - val_loss: 0.6845 - val_acc: 0.6318\n",
      "Epoch 6/200\n",
      " - 1s - loss: 0.5767 - acc: 0.6728 - val_loss: 0.5517 - val_acc: 0.6671\n",
      "Epoch 7/200\n",
      " - 1s - loss: 0.5446 - acc: 0.6986 - val_loss: 0.5502 - val_acc: 0.6876\n",
      "Epoch 8/200\n",
      " - 1s - loss: 0.5411 - acc: 0.7133 - val_loss: 0.5451 - val_acc: 0.6794\n",
      "Epoch 9/200\n",
      " - 1s - loss: 0.5349 - acc: 0.7226 - val_loss: 0.5713 - val_acc: 0.6929\n",
      "Epoch 10/200\n",
      " - 1s - loss: 0.5301 - acc: 0.7303 - val_loss: 0.6007 - val_acc: 0.6406\n",
      "Epoch 11/200\n",
      " - 1s - loss: 0.5169 - acc: 0.7214 - val_loss: 0.5784 - val_acc: 0.6759\n",
      "Epoch 12/200\n",
      " - 1s - loss: 0.5242 - acc: 0.7187 - val_loss: 0.7260 - val_acc: 0.6259\n",
      "Epoch 13/200\n",
      " - 1s - loss: 0.6567 - acc: 0.6571 - val_loss: 0.7324 - val_acc: 0.6441\n",
      "Epoch 14/200\n",
      " - 1s - loss: 0.5563 - acc: 0.7258 - val_loss: 0.6502 - val_acc: 0.6994\n",
      "Epoch 15/200\n",
      " - 1s - loss: 0.5255 - acc: 0.7408 - val_loss: 0.6410 - val_acc: 0.7335\n",
      "Epoch 16/200\n",
      " - 1s - loss: 0.5599 - acc: 0.7065 - val_loss: 0.5943 - val_acc: 0.7124\n",
      "Epoch 17/200\n",
      " - 1s - loss: 0.5251 - acc: 0.7152 - val_loss: 0.6188 - val_acc: 0.7047\n",
      "Epoch 18/200\n",
      " - 1s - loss: 0.5021 - acc: 0.7476 - val_loss: 0.6004 - val_acc: 0.6871\n",
      "Epoch 19/200\n",
      " - 1s - loss: 0.5381 - acc: 0.6929 - val_loss: 0.5829 - val_acc: 0.6947\n",
      "Epoch 20/200\n",
      " - 1s - loss: 0.5483 - acc: 0.7037 - val_loss: 0.5769 - val_acc: 0.7176\n",
      "Epoch 21/200\n",
      " - 1s - loss: 0.4959 - acc: 0.7608 - val_loss: 0.5723 - val_acc: 0.7224\n",
      "Epoch 22/200\n",
      " - 1s - loss: 0.4740 - acc: 0.7533 - val_loss: 0.5676 - val_acc: 0.7241\n",
      "Epoch 23/200\n",
      " - 1s - loss: 0.4729 - acc: 0.7623 - val_loss: 0.5772 - val_acc: 0.7376\n",
      "Epoch 24/200\n",
      " - 1s - loss: 0.4601 - acc: 0.7771 - val_loss: 0.5952 - val_acc: 0.7394\n",
      "Epoch 25/200\n",
      " - 1s - loss: 0.4542 - acc: 0.7778 - val_loss: 0.5884 - val_acc: 0.7488\n",
      "Epoch 26/200\n",
      " - 1s - loss: 0.4433 - acc: 0.7832 - val_loss: 0.5729 - val_acc: 0.7465\n",
      "Epoch 27/200\n",
      " - 1s - loss: 0.4401 - acc: 0.7889 - val_loss: 0.5771 - val_acc: 0.7459\n",
      "Epoch 28/200\n",
      " - 1s - loss: 0.5585 - acc: 0.7086 - val_loss: 0.7172 - val_acc: 0.6265\n",
      "Epoch 29/200\n",
      " - 1s - loss: 0.5307 - acc: 0.7210 - val_loss: 0.5496 - val_acc: 0.7471\n",
      "Epoch 30/200\n",
      " - 1s - loss: 0.4947 - acc: 0.7503 - val_loss: 0.5168 - val_acc: 0.7347\n",
      "Epoch 31/200\n",
      " - 1s - loss: 0.4846 - acc: 0.7326 - val_loss: 0.5814 - val_acc: 0.7288\n",
      "Epoch 32/200\n",
      " - 1s - loss: 0.4668 - acc: 0.7759 - val_loss: 0.5658 - val_acc: 0.7512\n",
      "Epoch 33/200\n",
      " - 1s - loss: 0.4546 - acc: 0.7775 - val_loss: 0.5985 - val_acc: 0.7500\n",
      "Epoch 34/200\n",
      " - 1s - loss: 0.4508 - acc: 0.7808 - val_loss: 0.5880 - val_acc: 0.7282\n",
      "Epoch 35/200\n",
      " - 1s - loss: 0.4445 - acc: 0.7902 - val_loss: 0.5732 - val_acc: 0.7494\n",
      "Epoch 36/200\n",
      " - 1s - loss: 0.4226 - acc: 0.7957 - val_loss: 0.6373 - val_acc: 0.7606\n",
      "Epoch 37/200\n",
      " - 1s - loss: 0.4213 - acc: 0.8011 - val_loss: 0.5973 - val_acc: 0.7600\n",
      "Epoch 38/200\n",
      " - 1s - loss: 0.4255 - acc: 0.8046 - val_loss: 0.5254 - val_acc: 0.7612\n",
      "Epoch 39/200\n",
      " - 1s - loss: 0.4035 - acc: 0.8115 - val_loss: 0.5412 - val_acc: 0.7712\n",
      "Epoch 40/200\n",
      " - 1s - loss: 0.3976 - acc: 0.8175 - val_loss: 0.5366 - val_acc: 0.7776\n",
      "Epoch 41/200\n",
      " - 1s - loss: 0.3994 - acc: 0.8190 - val_loss: 0.5993 - val_acc: 0.7724\n",
      "Epoch 42/200\n",
      " - 1s - loss: 0.3869 - acc: 0.8252 - val_loss: 0.5646 - val_acc: 0.7665\n",
      "Epoch 43/200\n",
      " - 1s - loss: 0.3819 - acc: 0.8185 - val_loss: 0.5339 - val_acc: 0.7824\n",
      "Epoch 44/200\n",
      " - 1s - loss: 0.3718 - acc: 0.8281 - val_loss: 0.5579 - val_acc: 0.7765\n",
      "Epoch 45/200\n",
      " - 1s - loss: 0.3784 - acc: 0.8263 - val_loss: 0.5903 - val_acc: 0.7806\n",
      "Epoch 46/200\n",
      " - 1s - loss: 0.3878 - acc: 0.8231 - val_loss: 0.5573 - val_acc: 0.7724\n",
      "Epoch 47/200\n",
      " - 1s - loss: 0.3808 - acc: 0.8253 - val_loss: 0.5040 - val_acc: 0.7771\n",
      "Epoch 48/200\n",
      " - 1s - loss: 0.4318 - acc: 0.8199 - val_loss: 0.6553 - val_acc: 0.7741\n",
      "Epoch 49/200\n",
      " - 1s - loss: 0.3921 - acc: 0.8200 - val_loss: 0.5344 - val_acc: 0.7641\n",
      "Epoch 50/200\n",
      " - 1s - loss: 0.3995 - acc: 0.8221 - val_loss: 0.6095 - val_acc: 0.7753\n",
      "Epoch 51/200\n",
      " - 1s - loss: 0.3968 - acc: 0.8199 - val_loss: 0.6555 - val_acc: 0.7700\n",
      "Epoch 52/200\n",
      " - 1s - loss: 0.3867 - acc: 0.8269 - val_loss: 0.5804 - val_acc: 0.7776\n",
      "Epoch 53/200\n",
      " - 1s - loss: 0.3736 - acc: 0.8298 - val_loss: 0.5447 - val_acc: 0.7841\n",
      "Epoch 54/200\n",
      " - 1s - loss: 0.3677 - acc: 0.8345 - val_loss: 0.5057 - val_acc: 0.7900\n",
      "Epoch 55/200\n",
      " - 2s - loss: 0.4231 - acc: 0.8074 - val_loss: 0.5578 - val_acc: 0.7265\n",
      "Epoch 56/200\n",
      " - 2s - loss: 0.4674 - acc: 0.7895 - val_loss: 0.5452 - val_acc: 0.7653\n",
      "Epoch 57/200\n",
      " - 1s - loss: 0.3946 - acc: 0.8267 - val_loss: 0.5726 - val_acc: 0.7724\n",
      "Epoch 58/200\n",
      " - 2s - loss: 0.3876 - acc: 0.8318 - val_loss: 0.5710 - val_acc: 0.7835\n",
      "Epoch 59/200\n",
      " - 1s - loss: 0.3798 - acc: 0.8357 - val_loss: 0.5838 - val_acc: 0.7800\n",
      "Epoch 60/200\n",
      " - 1s - loss: 0.3681 - acc: 0.8408 - val_loss: 0.6411 - val_acc: 0.7865\n",
      "Epoch 61/200\n",
      " - 2s - loss: 0.3510 - acc: 0.8438 - val_loss: 0.5788 - val_acc: 0.7871\n",
      "Epoch 62/200\n",
      " - 2s - loss: 0.3607 - acc: 0.8462 - val_loss: 0.5963 - val_acc: 0.7918\n",
      "Epoch 63/200\n",
      " - 1s - loss: 0.3427 - acc: 0.8499 - val_loss: 0.6410 - val_acc: 0.7829\n",
      "Epoch 64/200\n",
      " - 1s - loss: 0.3435 - acc: 0.8461 - val_loss: 0.5716 - val_acc: 0.7924\n",
      "Epoch 65/200\n",
      " - 1s - loss: 0.3557 - acc: 0.8486 - val_loss: 0.5665 - val_acc: 0.7935\n",
      "Epoch 66/200\n",
      " - 1s - loss: 0.3409 - acc: 0.8549 - val_loss: 0.5190 - val_acc: 0.8141\n",
      "Epoch 67/200\n",
      " - 1s - loss: 0.3275 - acc: 0.8553 - val_loss: 0.5974 - val_acc: 0.7994\n",
      "Epoch 68/200\n",
      " - 1s - loss: 0.3455 - acc: 0.8488 - val_loss: 0.5899 - val_acc: 0.8006\n",
      "Epoch 69/200\n",
      " - 1s - loss: 0.3227 - acc: 0.8605 - val_loss: 0.5668 - val_acc: 0.8065\n",
      "Epoch 70/200\n",
      " - 1s - loss: 0.3160 - acc: 0.8590 - val_loss: 0.5881 - val_acc: 0.8047\n",
      "Epoch 71/200\n",
      " - 1s - loss: 0.3282 - acc: 0.8553 - val_loss: 0.6015 - val_acc: 0.7988\n",
      "Epoch 72/200\n",
      " - 1s - loss: 0.3309 - acc: 0.8573 - val_loss: 0.6105 - val_acc: 0.8029\n",
      "Epoch 73/200\n",
      " - 2s - loss: 0.3655 - acc: 0.8468 - val_loss: 0.6330 - val_acc: 0.8065\n",
      "Epoch 74/200\n",
      " - 1s - loss: 0.3705 - acc: 0.8492 - val_loss: 0.5610 - val_acc: 0.7965\n",
      "Epoch 75/200\n",
      " - 1s - loss: 0.3461 - acc: 0.8497 - val_loss: 0.5424 - val_acc: 0.8035\n",
      "Epoch 76/200\n",
      " - 1s - loss: 0.3379 - acc: 0.8535 - val_loss: 0.5608 - val_acc: 0.8088\n",
      "Epoch 77/200\n",
      " - 1s - loss: 0.3337 - acc: 0.8563 - val_loss: 0.5544 - val_acc: 0.7918\n",
      "Epoch 78/200\n",
      " - 2s - loss: 0.3785 - acc: 0.8413 - val_loss: 0.5864 - val_acc: 0.7788\n",
      "Epoch 79/200\n",
      " - 2s - loss: 0.3467 - acc: 0.8388 - val_loss: 0.5466 - val_acc: 0.7882\n",
      "Epoch 80/200\n",
      " - 1s - loss: 0.4023 - acc: 0.8029 - val_loss: 0.7092 - val_acc: 0.6265\n",
      "Epoch 81/200\n",
      " - 1s - loss: 0.5178 - acc: 0.7154 - val_loss: 0.6065 - val_acc: 0.7688\n",
      "Epoch 82/200\n",
      " - 1s - loss: 0.3971 - acc: 0.8097 - val_loss: 0.5941 - val_acc: 0.7859\n",
      "Epoch 83/200\n",
      " - 1s - loss: 0.3838 - acc: 0.8325 - val_loss: 0.5521 - val_acc: 0.7871\n",
      "Epoch 84/200\n",
      " - 1s - loss: 0.4287 - acc: 0.7616 - val_loss: 0.5530 - val_acc: 0.6935\n",
      "Epoch 85/200\n",
      " - 1s - loss: 0.4326 - acc: 0.7792 - val_loss: 0.5227 - val_acc: 0.7359\n",
      "Epoch 86/200\n",
      " - 1s - loss: 0.4331 - acc: 0.7852 - val_loss: 0.6451 - val_acc: 0.6276\n",
      "Epoch 87/200\n",
      " - 1s - loss: 0.5070 - acc: 0.7145 - val_loss: 0.5884 - val_acc: 0.7582\n",
      "Epoch 88/200\n",
      " - 1s - loss: 0.4249 - acc: 0.7763 - val_loss: 0.5373 - val_acc: 0.7671\n",
      "Epoch 89/200\n",
      " - 1s - loss: 0.4607 - acc: 0.7629 - val_loss: 0.5572 - val_acc: 0.6694\n",
      "Epoch 90/200\n",
      " - 1s - loss: 0.4611 - acc: 0.7596 - val_loss: 0.6073 - val_acc: 0.7376\n",
      "Epoch 91/200\n",
      " - 1s - loss: 0.4169 - acc: 0.7910 - val_loss: 0.6297 - val_acc: 0.7712\n",
      "Epoch 92/200\n",
      " - 1s - loss: 0.4114 - acc: 0.7984 - val_loss: 0.5818 - val_acc: 0.7853\n",
      "Epoch 93/200\n",
      " - 1s - loss: 0.4074 - acc: 0.7727 - val_loss: 0.6993 - val_acc: 0.7471\n",
      "Epoch 94/200\n",
      " - 1s - loss: 0.4293 - acc: 0.7984 - val_loss: 0.6140 - val_acc: 0.7688\n",
      "Epoch 95/200\n",
      " - 1s - loss: 0.3886 - acc: 0.7829 - val_loss: 0.6271 - val_acc: 0.7553\n",
      "Epoch 96/200\n",
      " - 1s - loss: 0.4484 - acc: 0.7573 - val_loss: 0.7039 - val_acc: 0.7588\n"
     ]
    },
    {
     "name": "stdout",
     "output_type": "stream",
     "text": [
      "Epoch 97/200\n",
      " - 1s - loss: 0.4112 - acc: 0.8027 - val_loss: 0.6083 - val_acc: 0.7876\n",
      "Epoch 98/200\n",
      " - 1s - loss: 0.3796 - acc: 0.8139 - val_loss: 0.6195 - val_acc: 0.7859\n",
      "Epoch 99/200\n",
      " - 1s - loss: 0.3676 - acc: 0.8129 - val_loss: 0.5834 - val_acc: 0.7900\n",
      "Epoch 100/200\n",
      " - 1s - loss: 0.3748 - acc: 0.8156 - val_loss: 0.6029 - val_acc: 0.7659\n",
      "Epoch 101/200\n",
      " - 1s - loss: 0.3859 - acc: 0.8126 - val_loss: 0.5476 - val_acc: 0.7953\n",
      "Epoch 102/200\n",
      " - 1s - loss: 0.3660 - acc: 0.8154 - val_loss: 0.6457 - val_acc: 0.7724\n",
      "Epoch 103/200\n",
      " - 1s - loss: 0.3780 - acc: 0.8067 - val_loss: 0.5834 - val_acc: 0.7835\n",
      "Epoch 104/200\n",
      " - 1s - loss: 0.3595 - acc: 0.8188 - val_loss: 0.5575 - val_acc: 0.7835\n",
      "Epoch 105/200\n",
      " - 1s - loss: 0.3776 - acc: 0.8120 - val_loss: 0.5918 - val_acc: 0.7718\n",
      "Epoch 106/200\n",
      " - 1s - loss: 0.3574 - acc: 0.8214 - val_loss: 0.5712 - val_acc: 0.7876\n",
      "Epoch 107/200\n",
      " - 1s - loss: 0.3584 - acc: 0.8260 - val_loss: 0.5775 - val_acc: 0.7976\n",
      "Epoch 108/200\n",
      " - 1s - loss: 0.3431 - acc: 0.8352 - val_loss: 0.5666 - val_acc: 0.7941\n",
      "Epoch 109/200\n",
      " - 1s - loss: 0.3412 - acc: 0.8385 - val_loss: 0.5876 - val_acc: 0.7841\n",
      "Epoch 110/200\n",
      " - 1s - loss: 0.3379 - acc: 0.8293 - val_loss: 0.5529 - val_acc: 0.8094\n",
      "Epoch 111/200\n",
      " - 1s - loss: 0.3834 - acc: 0.7827 - val_loss: 0.6364 - val_acc: 0.6265\n",
      "Epoch 112/200\n",
      " - 1s - loss: 0.4170 - acc: 0.7293 - val_loss: 0.5548 - val_acc: 0.7824\n",
      "Epoch 113/200\n",
      " - 1s - loss: 0.4812 - acc: 0.7859 - val_loss: 0.5015 - val_acc: 0.7382\n",
      "Epoch 114/200\n",
      " - 1s - loss: 0.4637 - acc: 0.7575 - val_loss: 0.6246 - val_acc: 0.6718\n",
      "Epoch 115/200\n",
      " - 1s - loss: 0.4362 - acc: 0.7605 - val_loss: 0.5746 - val_acc: 0.7759\n",
      "Epoch 116/200\n",
      " - 1s - loss: 0.4067 - acc: 0.7900 - val_loss: 0.5104 - val_acc: 0.7529\n",
      "Epoch 117/200\n",
      " - 1s - loss: 0.4102 - acc: 0.8010 - val_loss: 0.5862 - val_acc: 0.7847\n",
      "Epoch 118/200\n",
      " - 1s - loss: 0.3888 - acc: 0.8037 - val_loss: 0.6253 - val_acc: 0.7712\n",
      "Epoch 119/200\n",
      " - 1s - loss: 0.3891 - acc: 0.8144 - val_loss: 0.5152 - val_acc: 0.7941\n",
      "Epoch 120/200\n",
      " - 1s - loss: 0.3682 - acc: 0.8165 - val_loss: 0.5836 - val_acc: 0.7841\n",
      "Epoch 121/200\n",
      " - 1s - loss: 0.3830 - acc: 0.8057 - val_loss: 0.5892 - val_acc: 0.7729\n",
      "Epoch 122/200\n",
      " - 1s - loss: 0.4342 - acc: 0.7958 - val_loss: 0.5967 - val_acc: 0.7853\n",
      "Epoch 123/200\n",
      " - 1s - loss: 0.6898 - acc: 0.6324 - val_loss: 0.7112 - val_acc: 0.6965\n",
      "Epoch 124/200\n",
      " - 1s - loss: 0.4954 - acc: 0.7354 - val_loss: 0.8115 - val_acc: 0.7500\n",
      "Epoch 125/200\n",
      " - 1s - loss: 0.5086 - acc: 0.8077 - val_loss: 0.8035 - val_acc: 0.7859\n",
      "Epoch 126/200\n",
      " - 1s - loss: 0.4880 - acc: 0.8151 - val_loss: 0.6993 - val_acc: 0.7800\n",
      "Epoch 127/200\n",
      " - 1s - loss: 0.4244 - acc: 0.8199 - val_loss: 0.6139 - val_acc: 0.7729\n",
      "Epoch 128/200\n",
      " - 1s - loss: 0.3753 - acc: 0.8220 - val_loss: 0.5843 - val_acc: 0.7888\n",
      "Epoch 129/200\n",
      " - 1s - loss: 0.3779 - acc: 0.8162 - val_loss: 0.6184 - val_acc: 0.7888\n",
      "Epoch 130/200\n",
      " - 1s - loss: 0.3653 - acc: 0.8271 - val_loss: 0.6505 - val_acc: 0.7982\n",
      "Epoch 131/200\n",
      " - 1s - loss: 0.3529 - acc: 0.8227 - val_loss: 0.6176 - val_acc: 0.7953\n",
      "Epoch 132/200\n",
      " - 1s - loss: 0.3806 - acc: 0.8303 - val_loss: 0.5434 - val_acc: 0.7876\n",
      "Epoch 133/200\n",
      " - 1s - loss: 0.3941 - acc: 0.8169 - val_loss: 0.4997 - val_acc: 0.7712\n",
      "Epoch 134/200\n",
      " - 1s - loss: 0.3774 - acc: 0.8224 - val_loss: 0.6592 - val_acc: 0.7853\n",
      "Epoch 135/200\n",
      " - 1s - loss: 0.3660 - acc: 0.8276 - val_loss: 0.6004 - val_acc: 0.7847\n",
      "Epoch 136/200\n",
      " - 1s - loss: 0.3691 - acc: 0.8244 - val_loss: 0.5239 - val_acc: 0.7882\n",
      "Epoch 137/200\n",
      " - 1s - loss: 0.3520 - acc: 0.8322 - val_loss: 0.5405 - val_acc: 0.7988\n",
      "Epoch 138/200\n",
      " - 1s - loss: 0.3543 - acc: 0.8321 - val_loss: 0.5300 - val_acc: 0.7947\n",
      "Epoch 139/200\n",
      " - 1s - loss: 0.3498 - acc: 0.8366 - val_loss: 0.5328 - val_acc: 0.7988\n",
      "Epoch 140/200\n",
      " - 1s - loss: 0.3642 - acc: 0.8301 - val_loss: 0.6133 - val_acc: 0.7888\n",
      "Epoch 141/200\n",
      " - 1s - loss: 0.3460 - acc: 0.8333 - val_loss: 0.6236 - val_acc: 0.7929\n",
      "Epoch 142/200\n",
      " - 1s - loss: 0.3339 - acc: 0.8429 - val_loss: 0.5841 - val_acc: 0.7918\n",
      "Epoch 143/200\n",
      " - 1s - loss: 0.3500 - acc: 0.8399 - val_loss: 0.5436 - val_acc: 0.8053\n",
      "Epoch 144/200\n",
      " - 1s - loss: 0.3453 - acc: 0.8420 - val_loss: 0.5907 - val_acc: 0.7841\n",
      "Epoch 145/200\n",
      " - 1s - loss: 0.3286 - acc: 0.8472 - val_loss: 0.5616 - val_acc: 0.8041\n",
      "Epoch 146/200\n",
      " - 1s - loss: 0.3231 - acc: 0.8482 - val_loss: 0.5733 - val_acc: 0.7976\n",
      "Epoch 147/200\n",
      " - 1s - loss: 0.3097 - acc: 0.8469 - val_loss: 0.5873 - val_acc: 0.7965\n",
      "Epoch 148/200\n",
      " - 1s - loss: 0.3236 - acc: 0.8444 - val_loss: 0.6129 - val_acc: 0.7941\n",
      "Epoch 149/200\n",
      " - 1s - loss: 0.3128 - acc: 0.8486 - val_loss: 0.5937 - val_acc: 0.7941\n",
      "Epoch 150/200\n",
      " - 1s - loss: 0.3111 - acc: 0.8488 - val_loss: 0.6108 - val_acc: 0.7924\n",
      "Epoch 151/200\n",
      " - 1s - loss: 0.3234 - acc: 0.8392 - val_loss: 0.5759 - val_acc: 0.8076\n",
      "Epoch 152/200\n",
      " - 1s - loss: 0.3094 - acc: 0.8458 - val_loss: 0.6584 - val_acc: 0.7971\n",
      "Epoch 153/200\n",
      " - 1s - loss: 0.3520 - acc: 0.8417 - val_loss: 0.6633 - val_acc: 0.7829\n",
      "Epoch 154/200\n",
      " - 1s - loss: 0.3593 - acc: 0.8414 - val_loss: 0.6300 - val_acc: 0.7900\n",
      "Epoch 155/200\n",
      " - 1s - loss: 0.3263 - acc: 0.8419 - val_loss: 0.6399 - val_acc: 0.8029\n",
      "Epoch 156/200\n",
      " - 1s - loss: 0.3182 - acc: 0.8515 - val_loss: 0.6222 - val_acc: 0.8041\n",
      "Epoch 157/200\n",
      " - 1s - loss: 0.3136 - acc: 0.8507 - val_loss: 0.5897 - val_acc: 0.8059\n",
      "Epoch 158/200\n",
      " - 1s - loss: 0.3056 - acc: 0.8473 - val_loss: 0.5522 - val_acc: 0.8071\n",
      "Epoch 159/200\n",
      " - 1s - loss: 0.3049 - acc: 0.8484 - val_loss: 0.5345 - val_acc: 0.8065\n",
      "Epoch 160/200\n",
      " - 1s - loss: 0.3051 - acc: 0.8466 - val_loss: 0.6073 - val_acc: 0.8006\n",
      "Epoch 161/200\n",
      " - 1s - loss: 0.2950 - acc: 0.8463 - val_loss: 0.5432 - val_acc: 0.8141\n",
      "Epoch 162/200\n",
      " - 2s - loss: 0.2929 - acc: 0.8557 - val_loss: 0.6350 - val_acc: 0.8065\n",
      "Epoch 163/200\n",
      " - 1s - loss: 0.3037 - acc: 0.8592 - val_loss: 0.5614 - val_acc: 0.8118\n",
      "Epoch 164/200\n",
      " - 1s - loss: 0.2898 - acc: 0.8581 - val_loss: 0.5285 - val_acc: 0.8253\n",
      "Epoch 165/200\n",
      " - 1s - loss: 0.3088 - acc: 0.8476 - val_loss: 0.5690 - val_acc: 0.8112\n",
      "Epoch 166/200\n",
      " - 1s - loss: 0.3047 - acc: 0.8484 - val_loss: 0.5787 - val_acc: 0.8006\n",
      "Epoch 167/200\n",
      " - 1s - loss: 0.2920 - acc: 0.8520 - val_loss: 0.5726 - val_acc: 0.7947\n",
      "Epoch 168/200\n",
      " - 1s - loss: 0.2846 - acc: 0.8514 - val_loss: 0.5828 - val_acc: 0.8000\n",
      "Epoch 169/200\n",
      " - 1s - loss: 0.2912 - acc: 0.8543 - val_loss: 0.5849 - val_acc: 0.8047\n",
      "Epoch 170/200\n",
      " - 1s - loss: 0.2771 - acc: 0.8554 - val_loss: 0.6170 - val_acc: 0.8041\n",
      "Epoch 171/200\n",
      " - 1s - loss: 0.2809 - acc: 0.8507 - val_loss: 0.5426 - val_acc: 0.8053\n",
      "Epoch 172/200\n",
      " - 1s - loss: 0.2852 - acc: 0.8513 - val_loss: 0.6008 - val_acc: 0.8059\n",
      "Epoch 173/200\n",
      " - 1s - loss: 0.3742 - acc: 0.8041 - val_loss: 0.6064 - val_acc: 0.7547\n",
      "Epoch 174/200\n",
      " - 1s - loss: 0.3274 - acc: 0.8046 - val_loss: 0.5673 - val_acc: 0.7900\n",
      "Epoch 175/200\n",
      " - 1s - loss: 0.3055 - acc: 0.8167 - val_loss: 0.6332 - val_acc: 0.7824\n",
      "Epoch 176/200\n",
      " - 1s - loss: 0.3123 - acc: 0.8230 - val_loss: 0.6885 - val_acc: 0.7547\n",
      "Epoch 177/200\n",
      " - 1s - loss: 0.3011 - acc: 0.8259 - val_loss: 0.5575 - val_acc: 0.7982\n",
      "Epoch 178/200\n",
      " - 1s - loss: 0.2999 - acc: 0.8253 - val_loss: 0.5977 - val_acc: 0.7947\n",
      "Epoch 179/200\n",
      " - 1s - loss: 0.3077 - acc: 0.8334 - val_loss: 0.6521 - val_acc: 0.7688\n",
      "Epoch 180/200\n",
      " - 1s - loss: 0.3183 - acc: 0.8363 - val_loss: 0.5143 - val_acc: 0.8147\n",
      "Epoch 181/200\n",
      " - 1s - loss: 0.3314 - acc: 0.8203 - val_loss: 0.7212 - val_acc: 0.7053\n",
      "Epoch 182/200\n",
      " - 1s - loss: 0.3873 - acc: 0.8016 - val_loss: 0.6061 - val_acc: 0.7847\n",
      "Epoch 183/200\n",
      " - 1s - loss: 0.3431 - acc: 0.8209 - val_loss: 0.6075 - val_acc: 0.8106\n",
      "Epoch 184/200\n",
      " - 1s - loss: 0.3291 - acc: 0.8420 - val_loss: 0.6005 - val_acc: 0.8035\n",
      "Epoch 185/200\n",
      " - 1s - loss: 0.3375 - acc: 0.8039 - val_loss: 0.6277 - val_acc: 0.7959\n",
      "Epoch 186/200\n",
      " - 1s - loss: 0.3236 - acc: 0.8376 - val_loss: 0.5871 - val_acc: 0.8059\n",
      "Epoch 187/200\n",
      " - 1s - loss: 0.3081 - acc: 0.8313 - val_loss: 0.6245 - val_acc: 0.7959\n",
      "Epoch 188/200\n",
      " - 1s - loss: 0.3170 - acc: 0.8190 - val_loss: 0.6691 - val_acc: 0.7835\n",
      "Epoch 189/200\n",
      " - 1s - loss: 0.3488 - acc: 0.8335 - val_loss: 0.6138 - val_acc: 0.7876\n",
      "Epoch 190/200\n",
      " - 1s - loss: 0.3156 - acc: 0.8388 - val_loss: 0.5692 - val_acc: 0.8135\n",
      "Epoch 191/200\n",
      " - 1s - loss: 0.3184 - acc: 0.8249 - val_loss: 0.6069 - val_acc: 0.7812\n",
      "Epoch 192/200\n",
      " - 1s - loss: 0.3067 - acc: 0.8236 - val_loss: 0.6550 - val_acc: 0.7765\n"
     ]
    },
    {
     "name": "stdout",
     "output_type": "stream",
     "text": [
      "Epoch 193/200\n",
      " - 1s - loss: 0.3134 - acc: 0.8062 - val_loss: 0.5806 - val_acc: 0.7841\n",
      "Epoch 194/200\n",
      " - 1s - loss: 0.2999 - acc: 0.8242 - val_loss: 0.5679 - val_acc: 0.8176\n",
      "Epoch 195/200\n",
      " - 1s - loss: 0.2895 - acc: 0.8351 - val_loss: 0.6435 - val_acc: 0.7741\n",
      "Epoch 196/200\n",
      " - 1s - loss: 0.3018 - acc: 0.8210 - val_loss: 0.5924 - val_acc: 0.7924\n",
      "Epoch 197/200\n",
      " - 1s - loss: 0.3027 - acc: 0.8392 - val_loss: 0.6137 - val_acc: 0.8118\n",
      "Epoch 198/200\n",
      " - 1s - loss: 0.3521 - acc: 0.8275 - val_loss: 0.6898 - val_acc: 0.7647\n",
      "Epoch 199/200\n",
      " - 1s - loss: 0.3028 - acc: 0.8069 - val_loss: 0.6266 - val_acc: 0.7829\n",
      "Epoch 200/200\n",
      " - 1s - loss: 0.3024 - acc: 0.8170 - val_loss: 0.6387 - val_acc: 0.7935\n"
     ]
    }
   ],
   "source": [
    "history = model.fit(train_data,\n",
    "                    y_train,\n",
    "                    epochs=200,\n",
    "                    batch_size=512,\n",
    "                    verbose=2,\n",
    "                   validation_split=0.1)"
   ]
  },
  {
   "cell_type": "code",
   "execution_count": 19,
   "metadata": {},
   "outputs": [
    {
     "name": "stdout",
     "output_type": "stream",
     "text": [
      "3001/3001 [==============================] - 0s 67us/step\n"
     ]
    },
    {
     "data": {
      "text/plain": [
       "[0.6718504123392204, 0.7990669777734166]"
      ]
     },
     "execution_count": 19,
     "metadata": {},
     "output_type": "execute_result"
    }
   ],
   "source": [
    "results = model.evaluate(test_data, y_test,verbose=1)\n",
    "results"
   ]
  },
  {
   "cell_type": "markdown",
   "metadata": {},
   "source": [
    " ## Testing"
   ]
  },
  {
   "cell_type": "code",
   "execution_count": 20,
   "metadata": {},
   "outputs": [],
   "source": [
    "test_text = \"I hate you\"\n",
    "test_text = prep_corpus(test_text)"
   ]
  },
  {
   "cell_type": "code",
   "execution_count": 21,
   "metadata": {},
   "outputs": [],
   "source": [
    "test_cv = cv.transform([test_text]).toarray()"
   ]
  },
  {
   "cell_type": "code",
   "execution_count": 22,
   "metadata": {},
   "outputs": [
    {
     "data": {
      "text/plain": [
       "array([[0.62720925]], dtype=float32)"
      ]
     },
     "metadata": {},
     "output_type": "display_data"
    },
    {
     "data": {
      "text/plain": [
       "array([[1]], dtype=int32)"
      ]
     },
     "execution_count": 22,
     "metadata": {},
     "output_type": "execute_result"
    }
   ],
   "source": [
    "display(model.predict([test_cv]))\n",
    "model.predict_classes([test_cv])"
   ]
  },
  {
   "cell_type": "markdown",
   "metadata": {},
   "source": [
    "## Saving the Model"
   ]
  },
  {
   "cell_type": "code",
   "execution_count": 23,
   "metadata": {},
   "outputs": [],
   "source": [
    "model_json = model.to_json()\n",
    "with open(\"82pct_aggression_detectioon_keras_model.json\", \"w\") as json_file:\n",
    "    json_file.write(model_json)\n",
    "model.save_weights(\"82pct_aggression_detectioon_keras_weights.h5\")"
   ]
  },
  {
   "cell_type": "markdown",
   "metadata": {},
   "source": [
    "## Saving the fitted Vectorizer"
   ]
  },
  {
   "cell_type": "code",
   "execution_count": 24,
   "metadata": {},
   "outputs": [],
   "source": [
    "pickle.dump(cv, open(\"cv.pickle\", \"wb\"))"
   ]
  },
  {
   "cell_type": "code",
   "execution_count": null,
   "metadata": {},
   "outputs": [],
   "source": []
  }
 ],
 "metadata": {
  "kernelspec": {
   "display_name": "Python 3",
   "language": "python",
   "name": "python3"
  },
  "language_info": {
   "codemirror_mode": {
    "name": "ipython",
    "version": 3
   },
   "file_extension": ".py",
   "mimetype": "text/x-python",
   "name": "python",
   "nbconvert_exporter": "python",
   "pygments_lexer": "ipython3",
   "version": "3.6.3"
  },
  "varInspector": {
   "cols": {
    "lenName": 16,
    "lenType": 16,
    "lenVar": 40
   },
   "kernels_config": {
    "python": {
     "delete_cmd_postfix": "",
     "delete_cmd_prefix": "del ",
     "library": "var_list.py",
     "varRefreshCmd": "print(var_dic_list())"
    },
    "r": {
     "delete_cmd_postfix": ") ",
     "delete_cmd_prefix": "rm(",
     "library": "var_list.r",
     "varRefreshCmd": "cat(var_dic_list()) "
    }
   },
   "types_to_exclude": [
    "module",
    "function",
    "builtin_function_or_method",
    "instance",
    "_Feature"
   ],
   "window_display": false
  }
 },
 "nbformat": 4,
 "nbformat_minor": 2
}
